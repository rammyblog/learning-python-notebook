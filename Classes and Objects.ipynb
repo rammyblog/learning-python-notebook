{
 "cells": [
  {
   "cell_type": "markdown",
   "metadata": {},
   "source": [
    "# Classes & Objects\n",
    "Classes define an object's various properties and specify the things you can do with that object."
   ]
  },
  {
   "cell_type": "code",
   "execution_count": 2,
   "metadata": {},
   "outputs": [
    {
     "name": "stdout",
     "output_type": "stream",
     "text": [
      "A class to capture useful information \n",
      "    regarding my pets, just incase I lose track\n",
      "    of them. \n"
     ]
    }
   ],
   "source": [
    "class Pet():\n",
    "    \"\"\"A class to capture useful information \n",
    "    regarding my pets, just incase I lose track\n",
    "    of them. \"\"\"\n",
    "    \n",
    "    is_human = False\n",
    "    owner = 'Onasanya Tunde'\n",
    "\n",
    "chubbles = Pet()\n",
    "chubbles.is_human\n",
    "chubbles.owner\n",
    "print(chubbles.__doc__)"
   ]
  },
  {
   "cell_type": "markdown",
   "metadata": {},
   "source": [
    "## The __init__ method\n",
    "\n",
    "Python has a special method called __init__, which is called when an object is initialize from a class.\n"
   ]
  },
  {
   "cell_type": "code",
   "execution_count": null,
   "metadata": {},
   "outputs": [],
   "source": [
    "class Pet():\n",
    "    \"\"\"A class to capture useful information \n",
    "    regarding my pets, just incase I lose track\n",
    "    of them. \"\"\"\n",
    "    \n",
    "    def __init__(self, height):\n",
    "        self.height = height\n",
    "    \n",
    "    is_human = False\n",
    "    owner = 'Onasanya Tunde'\n",
    "\n",
    "chubbles = Pet()\n",
    "chubbles.is_human\n",
    "chubbles.owner\n",
    "print(chubbles.__doc__)"
   ]
  },
  {
   "cell_type": "code",
   "execution_count": 4,
   "metadata": {},
   "outputs": [
    {
     "data": {
      "text/plain": [
       "{'name': 'United States of America',\n",
       " 'population': None,\n",
       " 'size_kmsq': 9800000.0}"
      ]
     },
     "execution_count": 4,
     "metadata": {},
     "output_type": "execute_result"
    }
   ],
   "source": [
    "class Country():\n",
    "    def __init__(self, name='Unspecified', population=None, size_kmsq=None):\n",
    "        self.name = name\n",
    "        self.population = population\n",
    "        self.size_kmsq = size_kmsq\n",
    "usa = Country(name='United States of America', size_kmsq=9.8e6)\n",
    "usa.__dict__"
   ]
  },
  {
   "cell_type": "markdown",
   "metadata": {},
   "source": [
    "## Methods\n",
    "1. Instance methods\n",
    "2. Static methods\n",
    "3. Class methods\n",
    "\n",
    "### Instance Methods\n",
    "Most common type of method, they always take self as the first positional arguments. i.e __ init __\n",
    "\n",
    "The __self__ keyword represents the instance (i.e the object) within the method. "
   ]
  },
  {
   "cell_type": "code",
   "execution_count": 5,
   "metadata": {},
   "outputs": [],
   "source": [
    "import math\n",
    "class Circle():\n",
    "    is_shape = True\n",
    "    \n",
    "    # Instance method\n",
    "    def __init__(self, radius, color='red'):\n",
    "        self.radius = radius\n",
    "        self.color = color\n",
    "        \n",
    "    # Instance method\n",
    "    def area(self):\n",
    "        return math.pi * self.radius ** 2"
   ]
  },
  {
   "cell_type": "markdown",
   "metadata": {},
   "source": [
    "### The __str__ method\n",
    "\n",
    "Like init, the __ str __ method is a spcial instance method that is called whenever the object is rendered as a string."
   ]
  },
  {
   "cell_type": "code",
   "execution_count": 6,
   "metadata": {},
   "outputs": [],
   "source": [
    "class Pet():\n",
    "    def __init__(self, height, name):\n",
    "        self.height = height\n",
    "        self.name = name\n",
    "    \n",
    "    is_human = False\n",
    "    owner = 'Michael Smith'\n",
    "    \n",
    "    def __str__(self):\n",
    "        return '%s (height: %s cm)' % (self.name, self.height)"
   ]
  },
  {
   "cell_type": "markdown",
   "metadata": {},
   "source": [
    "### Static Methods\n",
    "Similar to instance methods, except that they do not implicitly pass the positioanl self arg.\n",
    "Defined using @staticmethod decorator. Decorators allow us to alter the behaviour of functions and classess.\n"
   ]
  },
  {
   "cell_type": "code",
   "execution_count": null,
   "metadata": {},
   "outputs": [],
   "source": [
    "class Diary():\n",
    "    def __init__(self, birthday, christmas):\n",
    "        self.birthday = birthday\n",
    "        self.christmas = christmas\n",
    "    \n",
    "    @staticmethod\n",
    "    def format_date(date):\n",
    "        return date.strftime('%d-%b-%y')\n",
    "    \n",
    "    def show_birthday(self):\n",
    "        return self.format_date(self.birthday)\n",
    "    def show_christmas(self):\n",
    "        return self.format_date(self.christmas)"
   ]
  },
  {
   "cell_type": "markdown",
   "metadata": {},
   "source": [
    "### Class Methods\n",
    "They are like instance methods, except that instead of the instance of an object being passed as the first positional self argument, the class itself is passed as the first argument."
   ]
  },
  {
   "cell_type": "markdown",
   "metadata": {},
   "source": [
    "### Properties\n",
    "\n",
    "They are used to manage the attributes of objects. \n",
    "\n",
    "#### The property decorator\n",
    "They look similar to the static methods and class methods. It allows a method to be accessed as an attribute of an object rather than needing to call it like a function with ()."
   ]
  },
  {
   "cell_type": "code",
   "execution_count": 3,
   "metadata": {},
   "outputs": [
    {
     "data": {
      "text/plain": [
       "212.0"
      ]
     },
     "execution_count": 3,
     "metadata": {},
     "output_type": "execute_result"
    }
   ],
   "source": [
    "class Temperature:\n",
    "    def __init__(self, celsius):\n",
    "        self.celsius = celsius\n",
    "    \n",
    "    @property\n",
    "    def fahrenheit(self):\n",
    "        return self.celsius * 9 /5 + 32\n",
    "\n",
    "freezing = Temperature(100)\n",
    "freezing.fahrenheit\n"
   ]
  },
  {
   "cell_type": "code",
   "execution_count": 6,
   "metadata": {},
   "outputs": [
    {
     "ename": "AttributeError",
     "evalue": "can't set attribute",
     "output_type": "error",
     "traceback": [
      "\u001b[0;31m---------------------------------------------------------------------------\u001b[0m",
      "\u001b[0;31mAttributeError\u001b[0m                            Traceback (most recent call last)",
      "\u001b[0;32m<ipython-input-6-19ca2284d785>\u001b[0m in \u001b[0;36m<module>\u001b[0;34m\u001b[0m\n\u001b[1;32m     16\u001b[0m \u001b[0mcustomer\u001b[0m \u001b[0;34m=\u001b[0m \u001b[0mPerson\u001b[0m\u001b[0;34m(\u001b[0m\u001b[0;34m'Mary'\u001b[0m\u001b[0;34m,\u001b[0m \u001b[0;34m\"Lou\"\u001b[0m\u001b[0;34m)\u001b[0m\u001b[0;34m\u001b[0m\u001b[0;34m\u001b[0m\u001b[0m\n\u001b[1;32m     17\u001b[0m \u001b[0mcustomer\u001b[0m\u001b[0;34m.\u001b[0m\u001b[0mfull_name\u001b[0m\u001b[0;34m\u001b[0m\u001b[0;34m\u001b[0m\u001b[0m\n\u001b[0;32m---> 18\u001b[0;31m \u001b[0mcustomer\u001b[0m\u001b[0;34m.\u001b[0m\u001b[0mfull_name\u001b[0m \u001b[0;34m=\u001b[0m \u001b[0;34m'JJ'\u001b[0m\u001b[0;34m\u001b[0m\u001b[0;34m\u001b[0m\u001b[0m\n\u001b[0m",
      "\u001b[0;31mAttributeError\u001b[0m: can't set attribute"
     ]
    }
   ],
   "source": [
    "\"\"\"\n",
    "    In this exercise, you create a Person class \n",
    "    and show how to use a property to display their full\n",
    "    name.\n",
    "\"\"\"\n",
    "\n",
    "class Person:\n",
    "    def __init__(self, first_name, last_name):\n",
    "        self.first_name = first_name\n",
    "        self.last_name = last_name\n",
    "    \n",
    "    @property\n",
    "    def full_name(self):\n",
    "        return f'{self.first_name} {self.last_name}'\n",
    "\n",
    "customer = Person('Mary', \"Lou\")\n",
    "customer.full_name\n",
    "# customer.full_name = 'Mary Joe' // This will run into an Error because you can only get attributes from a property function "
   ]
  },
  {
   "cell_type": "markdown",
   "metadata": {},
   "source": [
    "#### The Setter Method\n",
    "It will be called whenever a user assigns a value to a property.\n",
    "\n",
    "Note the following conventions:\n",
    "1. The decorator should be the method name, followed by .setter.\n",
    "2. It should take the value being assigned as a single argument (after self).\n",
    "3. The name of the setter method should be the same as the name of the property."
   ]
  },
  {
   "cell_type": "code",
   "execution_count": 8,
   "metadata": {},
   "outputs": [
    {
     "name": "stdout",
     "output_type": "stream",
     "text": [
      "Mary Lou\n"
     ]
    },
    {
     "data": {
      "text/plain": [
       "'Onasanya Tunde'"
      ]
     },
     "execution_count": 8,
     "metadata": {},
     "output_type": "execute_result"
    }
   ],
   "source": [
    "class Person:\n",
    "    def __init__(self, first_name, last_name):\n",
    "        self.first_name = first_name\n",
    "        self.last_name = last_name\n",
    "    \n",
    "    @property\n",
    "    def full_name(self):\n",
    "        return f'{self.first_name} {self.last_name}'\n",
    "    \n",
    "    @full_name.setter\n",
    "    def full_name(self, name):\n",
    "        first, last = name.split(' ')\n",
    "        self.first_name = first\n",
    "        self.last_name = last\n",
    "\n",
    "        \n",
    "\n",
    "customer = Person('Mary', \"Lou\")\n",
    "print(customer.full_name)\n",
    "customer.full_name = 'Onasanya Tunde'\n",
    "customer.full_name"
   ]
  },
  {
   "cell_type": "code",
   "execution_count": 9,
   "metadata": {},
   "outputs": [
    {
     "ename": "ValueError",
     "evalue": "Temperatures less than -460F are not possible",
     "output_type": "error",
     "traceback": [
      "\u001b[0;31m---------------------------------------------------------------------------\u001b[0m",
      "\u001b[0;31mValueError\u001b[0m                                Traceback (most recent call last)",
      "\u001b[0;32m<ipython-input-9-c43a935cb3a2>\u001b[0m in \u001b[0;36m<module>\u001b[0;34m\u001b[0m\n\u001b[1;32m     25\u001b[0m \u001b[0;34m\u001b[0m\u001b[0m\n\u001b[1;32m     26\u001b[0m \u001b[0mtemp\u001b[0m \u001b[0;34m=\u001b[0m \u001b[0mTemperature\u001b[0m\u001b[0;34m(\u001b[0m\u001b[0;36m5\u001b[0m\u001b[0;34m)\u001b[0m\u001b[0;34m\u001b[0m\u001b[0;34m\u001b[0m\u001b[0m\n\u001b[0;32m---> 27\u001b[0;31m \u001b[0mtemp\u001b[0m\u001b[0;34m.\u001b[0m\u001b[0mfahrenheit\u001b[0m \u001b[0;34m=\u001b[0m \u001b[0;34m-\u001b[0m\u001b[0;36m500\u001b[0m\u001b[0;34m\u001b[0m\u001b[0;34m\u001b[0m\u001b[0m\n\u001b[0m",
      "\u001b[0;32m<ipython-input-9-c43a935cb3a2>\u001b[0m in \u001b[0;36mfahrenheit\u001b[0;34m(self, value)\u001b[0m\n\u001b[1;32m     21\u001b[0m         \"\"\"\n\u001b[1;32m     22\u001b[0m         \u001b[0;32mif\u001b[0m \u001b[0mvalue\u001b[0m \u001b[0;34m<\u001b[0m \u001b[0;34m-\u001b[0m\u001b[0;36m460\u001b[0m\u001b[0;34m:\u001b[0m\u001b[0;34m\u001b[0m\u001b[0;34m\u001b[0m\u001b[0m\n\u001b[0;32m---> 23\u001b[0;31m             \u001b[0;32mraise\u001b[0m \u001b[0mValueError\u001b[0m\u001b[0;34m(\u001b[0m\u001b[0;34m'Temperatures less than -460F are not possible'\u001b[0m\u001b[0;34m)\u001b[0m\u001b[0;34m\u001b[0m\u001b[0;34m\u001b[0m\u001b[0m\n\u001b[0m\u001b[1;32m     24\u001b[0m         \u001b[0mself\u001b[0m\u001b[0;34m.\u001b[0m\u001b[0mcelsius\u001b[0m \u001b[0;34m=\u001b[0m \u001b[0;34m(\u001b[0m\u001b[0mvalue\u001b[0m \u001b[0;34m-\u001b[0m \u001b[0;36m32\u001b[0m\u001b[0;34m)\u001b[0m \u001b[0;34m*\u001b[0m \u001b[0;36m5\u001b[0m\u001b[0;34m/\u001b[0m\u001b[0;36m9\u001b[0m\u001b[0;34m\u001b[0m\u001b[0;34m\u001b[0m\u001b[0m\n\u001b[1;32m     25\u001b[0m \u001b[0;34m\u001b[0m\u001b[0m\n",
      "\u001b[0;31mValueError\u001b[0m: Temperatures less than -460F are not possible"
     ]
    }
   ],
   "source": [
    "\"\"\"\n",
    "The aim of this exercise is to use a setter method to customize the way values are\n",
    "assigned to properties.\n",
    "You extend our Temperature class by allowing the user to assign a new value for\n",
    "fahrenheit directly to the property:\n",
    "\"\"\"\n",
    "\n",
    "class Temperature:\n",
    "    def __init__(self, celsius):\n",
    "        self.celsius = celsius\n",
    "    \n",
    "    @property\n",
    "    def fahrenheit(self):\n",
    "        return self.celsius * 9 /5 + 32\n",
    "\n",
    "    @fahrenheit.setter\n",
    "    def fahrenheit(self, value):\n",
    "        \"\"\"\n",
    "            Validation: The min temp possible \n",
    "            theoretically is approx -460 degrees \n",
    "        \"\"\"\n",
    "        if value < -460:\n",
    "            raise ValueError('Temperatures less than -460F are not possible')\n",
    "        self.celsius = (value - 32) * 5/9\n",
    "\n",
    "temp = Temperature(5)\n",
    "temp.fahrenheit = -500"
   ]
  },
  {
   "cell_type": "markdown",
   "metadata": {},
   "source": [
    "### Inheritance\n",
    "\n",
    "Class inheritance  allows attributes and methods to be passed from one class to another.\n",
    "\n",
    "\n",
    "#### Single Inheritance\n",
    "This is also known as sub-classing, it involves creating a child class that inherits the attributes and methods of a single parent class."
   ]
  },
  {
   "cell_type": "code",
   "execution_count": null,
   "metadata": {},
   "outputs": [],
   "source": [
    "class Pet():\n",
    "    def __init__(self, name, weight):\n",
    "        self.name = name\n",
    "        self.weight = weight\n",
    "\n",
    "class Cat(Pet):\n",
    "    is_feline = True\n",
    "\n",
    "    \n",
    "class Dog(Pet):\n",
    "    is_feline = False\n",
    "    \n",
    "my_cat = Cat('Meow', 8)\n",
    "my_cat.name\n",
    "    "
   ]
  },
  {
   "cell_type": "markdown",
   "metadata": {},
   "source": [
    "#### Sub-Classing Classes from Python Packages"
   ]
  },
  {
   "cell_type": "code",
   "execution_count": 12,
   "metadata": {},
   "outputs": [
    {
     "data": {
      "text/plain": [
       "True"
      ]
     },
     "execution_count": 12,
     "metadata": {},
     "output_type": "execute_result"
    }
   ],
   "source": [
    "class MyInt(int):\n",
    "    def is_divisible_by(self, x):\n",
    "        return self % x == 0\n",
    "a = MyInt(8)\n",
    "a.is_divisible_by(2)\n"
   ]
  },
  {
   "cell_type": "markdown",
   "metadata": {},
   "source": [
    "#### Overiding Methods\n",
    "When inheriting classes, you often do so in order to change the behaviour of the class, not just to extend the behaviour. The custom methods or attribues you create on a child class can be used to override the method or attribure that was ingerited from the parent."
   ]
  },
  {
   "cell_type": "markdown",
   "metadata": {},
   "source": [
    "#### Calling the parent Method with super()\n",
    "Suppose the parent class has a method that is almost what you want it to be but you need to make a small alteration to the logic.\n",
    "If you just overide the method, you will need to specify the entire logic of the method again."
   ]
  },
  {
   "cell_type": "code",
   "execution_count": 15,
   "metadata": {},
   "outputs": [
    {
     "name": "stdout",
     "output_type": "stream",
     "text": [
      "01-Jan-2018\n",
      "03/03/2018\n"
     ]
    }
   ],
   "source": [
    "\"\"\"\n",
    "    The aim of this exercise is to learn how to override methods using the super function.\n",
    "    You subclass our previously created Diary class and show how super can be used to\n",
    "    modify the behavior of a class without unnecessarily repeating code\n",
    "\"\"\"\n",
    "\n",
    "\n",
    "import datetime\n",
    "\n",
    "class Diary():\n",
    "    def __init__(self, birthday, christmas):\n",
    "        self.birthday = birthday\n",
    "        self.christmas = christmas\n",
    "    \n",
    "    @staticmethod\n",
    "    def format_date(date):\n",
    "        return date.strftime('%d-%b-%y')\n",
    "    def show_birthday(self):\n",
    "        return self.format_date(self.birthday)\n",
    "    def show_christmas(self):\n",
    "        return self.format_date(self.christmas)\n",
    "\n",
    "class CustomDiary(Diary):\n",
    "    def __init__(self, birthday, christmas, date_format):\n",
    "        self.date_format = date_format\n",
    "        super().__init__(birthday, christmas)\n",
    "        \n",
    "    def format_date(self, date):\n",
    "        return date.strftime(self.date_format)\n",
    "    \n",
    "first_diary = CustomDiary(datetime.date(2018,1,1), datetime.date(2018,3,3), '%d-%b-%Y')\n",
    "second_diary = CustomDiary(datetime.date(2018,1,1), datetime.date(2018,3,3),'%d/%m/%Y')\n",
    "print(first_diary.show_birthday())\n",
    "print(second_diary.show_christmas())      "
   ]
  },
  {
   "cell_type": "markdown",
   "metadata": {},
   "source": [
    "#### Multiple Inheritance\n",
    "However, it's also possible to inherit from more than one parent class. Often, there are elements of multiple classes that you want to combine to create a new class."
   ]
  },
  {
   "cell_type": "code",
   "execution_count": 16,
   "metadata": {},
   "outputs": [
    {
     "name": "stdout",
     "output_type": "stream",
     "text": [
      "Not that you are booking an appointment with an adult\n",
      "Booking appointment for date 2018-01-01\n"
     ]
    }
   ],
   "source": [
    "\"\"\"\n",
    "Exercise 84: Creating a Consultation Appointment System\n",
    "Suppose you are running a hospital and building a consultation appointment system.\n",
    "You want to be able to schedule appointments for various types of patients.\n",
    "In this exercise, you start with our previously defined Adult and Baby classes and create\n",
    "OrganizedAdult and OrganizedBaby classes by inheriting from a second parent class,\n",
    "Calendar:\n",
    "\"\"\"\n",
    "\n",
    "import datetime\n",
    "\n",
    "class Person():\n",
    "    def __init__(self, first_name, last_name):\n",
    "        self.first_name = first_name\n",
    "        self.last_name = last_name\n",
    "        \n",
    "class Baby(Person):\n",
    "    def speak(self):\n",
    "        print('Blah blah blah')\n",
    "        \n",
    "class Adult(Person):\n",
    "    def speak(self):\n",
    "        print('Hello, my name is %s' % self.first_name)\n",
    "        \n",
    "class Calendar():\n",
    "    def book_appointment(self, date): \n",
    "        print('Booking appointment for date %s' % date)\n",
    "\n",
    "class OrganizedAdult(Adult, Calendar):\n",
    "    def book_appointment(self,date):\n",
    "        print('Not that you are booking an appointment with an adult')\n",
    "        super().book_appointment(date)\n",
    "\n",
    "class OrganizedBaby(Baby, Calendar):\n",
    "    pass\n",
    "\n",
    "boris = OrganizedAdult('Boris', 'Bumblebutton')\n",
    "boris.book_appointment(datetime.date(2018,1,1))"
   ]
  },
  {
   "cell_type": "markdown",
   "metadata": {},
   "source": [
    "#### Method Resolution Order (MRO)\n",
    "Suppose you were inheriting from two parent classes, both of which have a method of the same name. Which would be used when calling the method on the child class?\n",
    "Which would be used when calling it via super()?\n",
    "\n",
    "The Dog!!! \n"
   ]
  },
  {
   "cell_type": "code",
   "execution_count": 25,
   "metadata": {},
   "outputs": [
    {
     "name": "stdout",
     "output_type": "stream",
     "text": [
      "Woof!\n",
      "Woof!\n",
      "Woof!\n"
     ]
    }
   ],
   "source": [
    "class Dog():\n",
    "    def make_sound(self):\n",
    "        print('Woof!')\n",
    "        \n",
    "class Cat():\n",
    "    def make_sound(self):\n",
    "        print('Meow!')\n",
    "        \n",
    "class DogCat(Dog, Cat):\n",
    "    def make_sound(self):\n",
    "        for i in range(3):\n",
    "            super().make_sound()\n",
    "my_pet = DogCat()\n",
    "my_pet.make_sound()"
   ]
  },
  {
   "cell_type": "code",
   "execution_count": null,
   "metadata": {},
   "outputs": [],
   "source": []
  },
  {
   "cell_type": "code",
   "execution_count": 34,
   "metadata": {},
   "outputs": [
    {
     "name": "stdout",
     "output_type": "stream",
     "text": [
      "5 12\n",
      "25 20\n"
     ]
    }
   ],
   "source": [
    "class Polygon():\n",
    "    \"\"\"\n",
    "        Plogon class\n",
    "    \"\"\"\n",
    "    def __init__(self, side_lenghts):\n",
    "        self.side_lenghts =side_lenghts\n",
    "    \n",
    "    @property\n",
    "    def num_sides(self):\n",
    "        return len(self.side_lenghts)\n",
    "    \n",
    "    @property\n",
    "    def perimeter(self):\n",
    "        return sum(self.side_lenghts)\n",
    "    \n",
    "    def __str__(self):\n",
    "        return f' Polygon with {self.num_of_sides}'\n",
    "    \n",
    "class Rectangle(Polygon):\n",
    "    \n",
    "    def __init__(self, height, width):\n",
    "        super().__init__([height, width, height, width])\n",
    "    \n",
    "    @property\n",
    "    def area(self):\n",
    "        return self.side_lenghts[0] * self.side_lenghts[1]\n",
    "r = Rectangle(1, 5)\n",
    "print(r.area, r.perimeter)\n",
    "\n",
    "class Square(Rectangle):\n",
    "    \n",
    "    def __init__(self, height):\n",
    "        super().__init__(height,height)\n",
    "        \n",
    "s = Square(5)\n",
    "print(s.area, s.perimeter)\n"
   ]
  },
  {
   "cell_type": "code",
   "execution_count": null,
   "metadata": {},
   "outputs": [],
   "source": []
  }
 ],
 "metadata": {
  "kernelspec": {
   "display_name": "Python 3",
   "language": "python",
   "name": "python3"
  },
  "language_info": {
   "codemirror_mode": {
    "name": "ipython",
    "version": 3
   },
   "file_extension": ".py",
   "mimetype": "text/x-python",
   "name": "python",
   "nbconvert_exporter": "python",
   "pygments_lexer": "ipython3",
   "version": "3.6.9"
  }
 },
 "nbformat": 4,
 "nbformat_minor": 4
}
