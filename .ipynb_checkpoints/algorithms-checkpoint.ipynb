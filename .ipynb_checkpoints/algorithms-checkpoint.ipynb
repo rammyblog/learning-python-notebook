{
 "cells": [
  {
   "cell_type": "markdown",
   "metadata": {},
   "source": [
    "An algorithm is a series of instructions that can be executed to perform a certain task or computation.\n",
    "\n",
    "Algorithms are often initially defined in pseudocode, which is a way of writing down\n",
    "the steps a computer program will make without coding in any specific language.\n",
    "\n",
    "For example, if you had a list of positive numbers and wanted to find\n",
    "the maximum number of positive numbers in that list, an algorithm expressed in\n",
    "pseudocode could be as follows:\n",
    "1.\n",
    "Set the maximum variable to 0.\n",
    "2. For each number in our list, check whether the number is bigger than the maximum.\n",
    "Set the maximum variable so that it is equal to that number.\n",
    "3. maximum is now equal to the largest number in the list.\n",
    "Pseudocode is useful because it allows us to show the logic o"
   ]
  },
  {
   "cell_type": "code",
   "execution_count": 2,
   "metadata": {},
   "outputs": [
    {
     "name": "stdout",
     "output_type": "stream",
     "text": [
      "7\n"
     ]
    }
   ],
   "source": [
    "\n",
    "l = [4,2,7,3]\n",
    "maximum = 0\n",
    "\n",
    "for number in l:\n",
    "    if number > maximum:\n",
    "        maximum = number\n",
    "print(maximum)"
   ]
  },
  {
   "cell_type": "markdown",
   "metadata": {},
   "source": [
    "## Time Complexity\n",
    "In measuring complexity, you are interested in knowing the time it takes to execute the algorithm\n",
    "changes as the size of the problem changes.\n",
    "\n",
    "This relationship between the size of the problem and the steps taken is called the time\n",
    "complexity of an algorithm.\n",
    "\n",
    "\n",
    "Of course, you could simply time our algorithm on problems of different sizes and observe the relationship on a graph. This technique is often useful when the algorithm\n",
    "is complex, and the theoretical relationship between size and time isn't computable.\n",
    "However, this isn't entirely satisfactory, as the actual time taken is also conditional on factors such as the memory that is available, the processor, the disk speed, and other processes consuming resources on the machine. It will only ever be an empirical approximation and may vary depending on the computer.\n",
    "Instead, you simply count the number of operations required to execute the algorithm.\n",
    "The result of this counting is expressed with big-O notation."
   ]
  },
  {
   "cell_type": "markdown",
   "metadata": {},
   "source": [
    "O(n) means for a problem of size n, the number of steps taken is proportional to n i.e a * n + B (Alpha and Beta are constants). i.e the steps required to execute the algorithm grow linearly with the problem size.\n",
    "\n",
    "O(1): Constant time: The time taken is always the same, regardless of the problem size i.e accessing an element of an array in a given index.\n",
    "\n",
    "0(n^2): Quadratic time: Here, the time taken is proportional to the square of the problem size i.e Bubble sort algo.\n",
    "\n",
    "O(log n): Logarithmic time: Time taken is proportional to the natural logarithm of the problem size; i.e binary search algo"
   ]
  },
  {
   "cell_type": "markdown",
   "metadata": {},
   "source": [
    "#### Sorting Algo\n",
    "Commonly discussed. Say you have a list of values and you want to sort into an ordered list.\n",
    "\n",
    "\n",
    "The output must satisfy 2 conditions:\n",
    "1. Non-decreasing order. Each element must be => the element that came before it.\n",
    "2. Permutation of the input. i.e the input elements must simply be rearranged and not alterted.\n"
   ]
  },
  {
   "cell_type": "markdown",
   "metadata": {},
   "source": [
    "##### Bubble sort\n",
    "Let's say you want to sort a list [5,8,1,3,2]\n",
    "1. Start with the first two elements of the list(5,8). If the first > second switch positions on the numbers else leave it. In this case 5<8 so we leave. [5,8,1,3,2]\n",
    "2. Move to the next two elements. Here 8 & 1. We switch postions [5,1,8,3,2]\n",
    "3. Move to the next  8 & 3. We switch positions. [5,1,3,8,2]\n",
    "4. Move to the last pair 8 & 2, we switch positions.[5,1,3,2,8].\n",
    "5. Go back to the start of the list and repeat the preceding process.\n",
    "6. Continue till no further swaps are required.\n",
    "\n",
    "Personal Note: It's like picking a number from the first two elements and putting that number in it's right position. Then go back and pick another number.\n",
    "\n"
   ]
  },
  {
   "cell_type": "code",
   "execution_count": 3,
   "metadata": {},
   "outputs": [],
   "source": [
    "_list = [5,1,3,8,2]\n",
    "still_swapping = True\n",
    "\n",
    "while still_swapping:\n",
    "    still_swapping = False\n",
    "    \n",
    "    for i in range(len(_list)-1):\n",
    "        if _list[i] > _list[i+1]:\n",
    "            _list[i], _list[i+1] = _list[i+1], _list[i]\n",
    "            \n",
    "            still_swapping = True\n",
    "        \n",
    "    "
   ]
  },
  {
   "cell_type": "code",
   "execution_count": 4,
   "metadata": {},
   "outputs": [
    {
     "data": {
      "text/plain": [
       "[1, 2, 3, 5, 8]"
      ]
     },
     "execution_count": 4,
     "metadata": {},
     "output_type": "execute_result"
    }
   ],
   "source": [
    "_list"
   ]
  },
  {
   "cell_type": "markdown",
   "metadata": {},
   "source": [
    "52 Registered users\n",
    "15 Mailing lists created\n",
    "13 emails sent\n"
   ]
  },
  {
   "cell_type": "markdown",
   "metadata": {},
   "source": [
    "Bubble sort is simple but in efficient. Time complexity of O(n^2): Number of steps required is proportional to the square of the size of the list.."
   ]
  },
  {
   "cell_type": "markdown",
   "metadata": {},
   "source": [
    "### Searching Algo\n",
    "\n",
    "Linear Search (Simple but inefficient)\n",
    "\n",
    "1. Start with a list of numbers\n",
    "2. Specify the search Value\n",
    "3. Create a result varialbe with a default value of -1. If the search is unsuccessful, the value will remain -1.\n",
    "4. Loop through the list, if the value == the search value, set the result and exit loop.\n",
    "5. Check the result.\n",
    "\n"
   ]
  },
  {
   "cell_type": "code",
   "execution_count": 12,
   "metadata": {},
   "outputs": [],
   "source": [
    "_list = [5,8,1,3,2]\n",
    "search_for = 8\n",
    "result =  -1\n",
    "\n",
    "for i in range(len(_list)):\n",
    "    if search_for == _list[i]:\n",
    "        result = 1\n",
    "        break\n",
    "        "
   ]
  },
  {
   "cell_type": "code",
   "execution_count": 13,
   "metadata": {},
   "outputs": [
    {
     "data": {
      "text/plain": [
       "1"
      ]
     },
     "execution_count": 13,
     "metadata": {},
     "output_type": "execute_result"
    }
   ],
   "source": [
    "result"
   ]
  },
  {
   "cell_type": "markdown",
   "metadata": {},
   "source": [
    "#### Binary search\n",
    "\n",
    "It takes a sorted array and finds the position of the ratget value.\n",
    "_list = [2,3,5,8,11,12,18]\n",
    "\n",
    "1. Take the midpoint of the list. If this value < target value, discard left half of the list and vice versa. In this case, our target value of 11 is greater than 8, so you know that you can restrict our search to the right side of the list (since you know the array is sorted).\n",
    "\n",
    "2. Repeat this process with the right side of the list, picking the midpoint of the remaning values. Since the target value, 11 < 12, and you discard the ridght side of our sublist.\n",
    "\n",
    "3. This leaves you with the value that you were searching for.\n",
    "\n"
   ]
  },
  {
   "cell_type": "code",
   "execution_count": 15,
   "metadata": {},
   "outputs": [
    {
     "name": "stdout",
     "output_type": "stream",
     "text": [
      "True\n",
      "4\n"
     ]
    }
   ],
   "source": [
    "l = [2, 3, 5, 8, 11, 12, 18]\n",
    "search_for = 11\n",
    "slice_start = 0\n",
    "slice_end = len(l)-1\n",
    "found=False\n",
    "\n",
    "while slice_start <= slice_end and not found:\n",
    "    location = (slice_start + slice_end) // 2\n",
    "    \n",
    "    if l[location] == search_for:\n",
    "        found = True\n",
    "    else:\n",
    "        if search_for < l[location]:\n",
    "            slice_end = location - 1\n",
    "        else:\n",
    "            slice_start = location + 1\n",
    "\n",
    "print(found)\n",
    "print(location)\n",
    "    "
   ]
  },
  {
   "cell_type": "markdown",
   "metadata": {},
   "source": [
    "## Lambda Function\n",
    "Small, anonymous functions that can be defined in a simple one line syntax\n",
    "\n",
    "lambda arguments : expressions\n",
    "\n",
    "```def add_up(x, y):\n",
    "        return x + y\n",
    "    print(add_up(2, 5)) \n",
    "```\n",
    " is same as\n",
    " \n",
    " ``` add_up = lambda x,y : x+y ```\n",
    " \n",
    "The main restriction of a lambda function is that it can only contain a single expression."
   ]
  },
  {
   "cell_type": "code",
   "execution_count": 1,
   "metadata": {},
   "outputs": [
    {
     "name": "stdout",
     "output_type": "stream",
     "text": [
      "cat\n"
     ]
    }
   ],
   "source": [
    "\"\"\"\n",
    "    The first item in a list\n",
    "\"\"\"\n",
    "first_item = lambda my_list : my_list[0]\n",
    "\n",
    "print(first_item(['cat', 'dog', 'elephant']))\n"
   ]
  },
  {
   "cell_type": "markdown",
   "metadata": {},
   "source": [
    "##### Mapping with Lambda Functions\n",
    "Map is a special function in Python that applies a given function to all the items in a list. (Just like the popular JS map).\n",
    "\n",
    "names = ['Magda', 'Jose', 'Anne']\n",
    "\n",
    "lengths = []\n",
    "for name in names:\n",
    "    lengths.append(len(name))\n",
    "    \n",
    "or using Map.\n",
    "\n",
    "lengths = list(map(len, names))\n",
    "\n",
    "The first argument is the function to be applied, the second is an iterable(i.e list).\n",
    "\n",
    "map function returns a generator object, not a list, so you need to convert back.\n",
    "\n",
    "###### Exercise 56: Mapping with a Logistic Transform using map and lambda\n",
    "    f(x) = 1/(1 + e^-x)"
   ]
  },
  {
   "cell_type": "code",
   "execution_count": 3,
   "metadata": {},
   "outputs": [
    {
     "name": "stdout",
     "output_type": "stream",
     "text": [
      "[0.04742587317756678, 0.0066928509242848554, 0.7310585786300049, 0.9820137900379085]\n"
     ]
    }
   ],
   "source": [
    "import math\n",
    "nums = [-3,-5,1,4]\n",
    "# lambda x : 1 / (1 + (math.exp(-x))) function\n",
    "# Iterable nums\n",
    "result = list(map(lambda x : 1/(1+ math.exp(-x)), nums))\n",
    "print(result)"
   ]
  },
  {
   "cell_type": "markdown",
   "metadata": {},
   "source": [
    "#### Filtering with Lambdat Functions\n",
    "The filter is another specal function that takes a function and iterables as inputs. It returns the elements for which the function returns True.\n",
    "names = ['Karen', 'Jim', 'Kim']\n",
    "list(filter(lambda name : len(name) === 3 , names))\n"
   ]
  },
  {
   "cell_type": "code",
   "execution_count": 5,
   "metadata": {},
   "outputs": [
    {
     "name": "stdout",
     "output_type": "stream",
     "text": [
      "214216\n"
     ]
    }
   ],
   "source": [
    "\"\"\"\n",
    "    Exercise 57: Using the Filter Lambda\n",
    "    Consider a list of all-natural numbers \n",
    "    below 1000 that are multiples of 3 or 7. \n",
    "    The multiples will be 3, 6, 7, and 9,\n",
    "    and the sum of these when multiplied is 25.\n",
    "\"\"\"\n",
    "nums = list(range(1000))\n",
    "func = lambda num : num % 3 == 0 or num % 7 == 0\n",
    "filtered = filter(func, nums)\n",
    "print(sum(filtered))\n"
   ]
  },
  {
   "cell_type": "markdown",
   "metadata": {},
   "source": [
    "### Sorting With Lambda functions\n",
    "sorted takes an iterable and sorts them according to a function"
   ]
  },
  {
   "cell_type": "code",
   "execution_count": 6,
   "metadata": {},
   "outputs": [
    {
     "name": "stdout",
     "output_type": "stream",
     "text": [
      "['Ming', 'Boris', 'Andrew', 'Jennifer']\n"
     ]
    }
   ],
   "source": [
    "names = ['Ming', 'Jennifer', 'Andrew', 'Boris']\n",
    "print(sorted(names, key=lambda x : len(x)))"
   ]
  },
  {
   "cell_type": "code",
   "execution_count": null,
   "metadata": {},
   "outputs": [],
   "source": []
  }
 ],
 "metadata": {
  "kernelspec": {
   "display_name": "Python 3",
   "language": "python",
   "name": "python3"
  },
  "language_info": {
   "codemirror_mode": {
    "name": "ipython",
    "version": 3
   },
   "file_extension": ".py",
   "mimetype": "text/x-python",
   "name": "python",
   "nbconvert_exporter": "python",
   "pygments_lexer": "ipython3",
   "version": "3.6.9"
  }
 },
 "nbformat": 4,
 "nbformat_minor": 4
}
