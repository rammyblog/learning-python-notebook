{
 "cells": [
  {
   "cell_type": "markdown",
   "metadata": {},
   "source": [
    "## List Comprehensions\n",
    "List comprehensions are a flexible, expressive way of writing Python expressions to create sequence of values.\n",
    "\n",
    "cubes = []\n",
    "for x in [1,2,3,4,5]:\n",
    "        cubes.append(x**3)\n",
    "print(cubes)\n",
    "\n",
    "cubes = [x**3 for x in [1,2,3,4,5]]\n",
    "print(cubes)\n",
    "\n"
   ]
  },
  {
   "cell_type": "code",
   "execution_count": 1,
   "metadata": {},
   "outputs": [
    {
     "name": "stdout",
     "output_type": "stream",
     "text": [
      "['TERRY GILLIAM', 'TERRY JONES']\n"
     ]
    }
   ],
   "source": [
    "names = [\"Graham Chapman\", \"John Cleese\", \"Terry Gilliam\", \"Eric Idle\", \"Terry Jones\"]\n",
    "print([name.upper() for name in names if name.startswith('T')])\n"
   ]
  },
  {
   "cell_type": "code",
   "execution_count": 3,
   "metadata": {},
   "outputs": [
    {
     "name": "stdout",
     "output_type": "stream",
     "text": [
      "['spam', 'spamspam', 'spamspamspam', 'eggs', 'eggseggs', 'eggseggseggs', 'chips', 'chipschips', 'chipschipschips']\n"
     ]
    }
   ],
   "source": [
    "print([x*y for x in ['spam', 'eggs', 'chips'] for y in [1,2,3]])"
   ]
  },
  {
   "cell_type": "code",
   "execution_count": 4,
   "metadata": {},
   "outputs": [
    {
     "name": "stdout",
     "output_type": "stream",
     "text": [
      "['Magnus Carlsen vs Fabiano Caruana', 'Magnus Carlsen vs Yifan Hou', 'Magnus Carlsen vs Wenjun Ju', 'Fabiano Caruana vs Magnus Carlsen', 'Fabiano Caruana vs Yifan Hou', 'Fabiano Caruana vs Wenjun Ju', 'Yifan Hou vs Magnus Carlsen', 'Yifan Hou vs Fabiano Caruana', 'Yifan Hou vs Wenjun Ju', 'Wenjun Ju vs Magnus Carlsen', 'Wenjun Ju vs Fabiano Caruana', 'Wenjun Ju vs Yifan Hou']\n"
     ]
    }
   ],
   "source": [
    "player_names = ['Magnus Carlsen', 'Fabiano Caruana', 'Yifan Hou',\n",
    "'Wenjun Ju']\n",
    "\n",
    "fixtures = [f'{p1} vs {p2}' for p1 in player_names for p2 in player_names if p1!=p2]\n",
    "print(fixtures)"
   ]
  },
  {
   "cell_type": "markdown",
   "metadata": {},
   "source": [
    "## Set Comprehensions\n",
    "The diff between a list and a set is that the elements in a list have an order and those in a set do not.T his means that a set cannot contain duplicate entries: an object\n",
    "is either in a set or not."
   ]
  },
  {
   "cell_type": "code",
   "execution_count": 5,
   "metadata": {},
   "outputs": [
    {
     "name": "stdout",
     "output_type": "stream",
     "text": [
      "[4, 3, 2, 1, 5, 4, 3, 2, 6, 5, 4, 3, 7, 6, 5, 4]\n"
     ]
    }
   ],
   "source": [
    "#List comprehension\n",
    "print([a+b for a in [0,1,2,3] for b in [4,3,2,1]])"
   ]
  },
  {
   "cell_type": "code",
   "execution_count": 6,
   "metadata": {},
   "outputs": [
    {
     "name": "stdout",
     "output_type": "stream",
     "text": [
      "{1, 2, 3, 4, 5, 6, 7}\n"
     ]
    }
   ],
   "source": [
    "#SET comprehension\n",
    "print({a+b for a in [0,1,2,3] for b in [4,3,2,1]})"
   ]
  },
  {
   "cell_type": "markdown",
   "metadata": {},
   "source": [
    "## Dictionary Comprehensions\n",
    "Curly brace comprehension can also be used to create a dictionary. THe expression on the left hand side of the __for__ keyword in the comprehension should contain a comprehension. You write the expression that will generate the dictionary keys to the left of the colon and the expression that will generate the values to the right. Note that a key can only appear once in a dictionary."
   ]
  },
  {
   "cell_type": "code",
   "execution_count": 11,
   "metadata": {},
   "outputs": [
    {
     "name": "stdout",
     "output_type": "stream",
     "text": [
      "{'Eric': 4, 'Graham': 6, 'Terry': 5, 'John': 4}\n"
     ]
    }
   ],
   "source": [
    "names = [\"Eric\", \"Graham\", \"Terry\", \"John\", \"Terry\"]\n",
    "print({k:len(k) for k in names})"
   ]
  },
  {
   "cell_type": "code",
   "execution_count": 20,
   "metadata": {},
   "outputs": [
    {
     "name": "stdout",
     "output_type": "stream",
     "text": [
      "{}\n"
     ]
    }
   ],
   "source": [
    "names = [\"Vivian\", \"Racheal\", \"Tom\", \"Adrian\"]\n",
    "scores = [70, 82, 80, 79,44]\n",
    "print({names[i]:scores[i] for i in range(len(names)) if len(names) == len(scores)})\n"
   ]
  },
  {
   "cell_type": "markdown",
   "metadata": {},
   "source": [
    "### Default Dict\n",
    "The built-in dictionary type considers it to be an error when you try to access the value for a key that doesn't exist. It will raise a __KeyError__, which you have to handle or your program crashes. Often, that's a good idea.\n",
    "\n",
    "The first argument to the constructor of defaultdict, called __default_factory__, can be any callable (that is, function-like) object. "
   ]
  },
  {
   "cell_type": "code",
   "execution_count": 27,
   "metadata": {},
   "outputs": [
    {
     "data": {
      "text/plain": [
       "{}"
      ]
     },
     "execution_count": 27,
     "metadata": {},
     "output_type": "execute_result"
    }
   ],
   "source": [
    "from collections import defaultdict\n",
    "john = { 'first_name': 'John', 'surname': 'Cleese' }\n",
    "safe_john = defaultdict(dict, john)\n",
    "safe_john['middle_name']"
   ]
  },
  {
   "cell_type": "code",
   "execution_count": 52,
   "metadata": {},
   "outputs": [
    {
     "name": "stdout",
     "output_type": "stream",
     "text": [
      "No!\n"
     ]
    }
   ],
   "source": [
    "from collections import defaultdict\n",
    "courses = defaultdict(lambda: 'No!')\n",
    "courses['Java'] = 'This is Java'\n",
    "print(courses['Python'])"
   ]
  },
  {
   "cell_type": "code",
   "execution_count": null,
   "metadata": {},
   "outputs": [],
   "source": [
    "nums = [4, 3, 2, 1, 5, 4, 3, 2, 6, 5, 4, 3, 7, 6, 5, 4]\n",
    "a =  lambda y : y **2\n",
    "print([(lambda y:y**2)(y) for y in nums])"
   ]
  },
  {
   "cell_type": "markdown",
   "metadata": {},
   "source": [
    "### Iterators\n",
    "The Pythonic secret that enables comprehensions to find all of the entries in a list, range, or other collection is an iterator.\n",
    "Your collection must implement a method called __iter__(), which returns the iterator."
   ]
  },
  {
   "cell_type": "code",
   "execution_count": 67,
   "metadata": {},
   "outputs": [
    {
     "name": "stdout",
     "output_type": "stream",
     "text": [
      "What is your name?\n",
      "What is your quest?\n",
      "What is the average airspeed velocity of an unladen swallow?\n"
     ]
    }
   ],
   "source": [
    "class Interrogator:\n",
    "    def __init__(self, questions):\n",
    "        self.questions = questions\n",
    "    def __iter__(self):\n",
    "        return self.questions.__iter__()\n",
    "questions = [\"What is your name?\", \"What is your quest?\", \"What is the average airspeed velocity of an unladen swallow?\"]\n",
    "\n",
    "awkward_person = Interrogator(questions)\n",
    "\n",
    "for question in awkward_person:\n",
    "    print(question)"
   ]
  },
  {
   "cell_type": "markdown",
   "metadata": {},
   "source": [
    "Exercise 105: A Custom Iterator\n",
    "In this exercise, you'll implement a classical-era algorithm called the Sieve of Eratosthenes. To find prime numbers between 2 and an upper bound value, n, first,\n",
    "list all of the numbers in that range. Now, 2 is a prime, so return that. Then, remove 2 from the list, and all multiples of 2, and return the new lowest number (which will be 3).\n",
    "Continue until there are no more numbers left in the collection. Every number that gets returned using this method is a successively higher prime. It works because any number you find in the collection to return did not get removed at an earlier step, so has no lower prime factors other than itself."
   ]
  },
  {
   "cell_type": "code",
   "execution_count": 70,
   "metadata": {},
   "outputs": [
    {
     "name": "stdout",
     "output_type": "stream",
     "text": [
      "[2, 3, 5, 7, 11, 13, 17, 19, 23, 29, 31, 37, 41, 43, 47, 53, 59, 61, 67, 71, 73, 79, 83, 89, 97]\n"
     ]
    }
   ],
   "source": [
    "class PrimesBelow:\n",
    "    def __init__(self, bound):\n",
    "        self.candidate_numbers = list(range(2, bound))\n",
    "    def __iter__(self):\n",
    "        return self\n",
    "    def __next__(self):\n",
    "        if len(self.candidate_numbers) == 0:\n",
    "            raise StopIteration\n",
    "        next_prime = self.candidate_numbers[0]\n",
    "        self.candidate_numbers = [x for x in self.candidate_numbers if x % next_prime !=0]\n",
    "        return next_prime\n",
    "    \n",
    "primes_to_a_hundred = [prime for prime in PrimesBelow(100)]\n",
    "print(primes_to_a_hundred)"
   ]
  },
  {
   "cell_type": "code",
   "execution_count": 79,
   "metadata": {},
   "outputs": [
    {
     "name": "stdout",
     "output_type": "stream",
     "text": [
      "2\n",
      "3\n"
     ]
    }
   ],
   "source": [
    "# Controlling the iteration\n",
    "class PrimesBelow:\n",
    "    def __init__(self, bound):\n",
    "        self.candidate_numbers = list(range(2, bound))\n",
    "    def __iter__(self):\n",
    "        return self\n",
    "    def __next__(self):\n",
    "        if len(self.candidate_numbers) == 0:\n",
    "            raise StopIteration\n",
    "        next_prime = self.candidate_numbers[0]\n",
    "        self.candidate_numbers = [x for x in self.candidate_numbers if x % next_prime !=0]\n",
    "        return next_prime\n",
    "\n",
    "prime_under_five = iter(PrimesBelow(5))\n",
    "print(next(prime_under_five))\n",
    "print(next(prime_under_five))\n",
    "# Stop Iteration errorbm\n",
    "print(next(prime_under_five))\n",
    "\n"
   ]
  },
  {
   "cell_type": "markdown",
   "metadata": {},
   "source": [
    "### Itertools\n",
    "Iterators are useful for describing sequences, such as Python lists and ranges, and sequence-like collections, such as your own data types, that provide ordered access\n",
    "to their contents.\n",
    "\n",
    "__One of the important uses of itertools is in dealing with infinite sequences.__"
   ]
  },
  {
   "cell_type": "code",
   "execution_count": 82,
   "metadata": {},
   "outputs": [
    {
     "ename": "KeyboardInterrupt",
     "evalue": "",
     "output_type": "error",
     "traceback": [
      "\u001b[0;31m---------------------------------------------------------------------------\u001b[0m",
      "\u001b[0;31mKeyboardInterrupt\u001b[0m                         Traceback (most recent call last)",
      "\u001b[0;32m<ipython-input-82-8b9db5b95a22>\u001b[0m in \u001b[0;36m<module>\u001b[0;34m\u001b[0m\n\u001b[1;32m      9\u001b[0m             \u001b[0msquare_root\u001b[0m \u001b[0;34m=\u001b[0m \u001b[0mint\u001b[0m\u001b[0;34m(\u001b[0m\u001b[0mcurrent\u001b[0m \u001b[0;34m**\u001b[0m \u001b[0;36m0.5\u001b[0m\u001b[0;34m)\u001b[0m\u001b[0;34m\u001b[0m\u001b[0;34m\u001b[0m\u001b[0m\n\u001b[1;32m     10\u001b[0m             \u001b[0mis_prime\u001b[0m \u001b[0;34m=\u001b[0m \u001b[0;32mTrue\u001b[0m\u001b[0;34m\u001b[0m\u001b[0;34m\u001b[0m\u001b[0m\n\u001b[0;32m---> 11\u001b[0;31m \u001b[0;34m[\u001b[0m\u001b[0mp\u001b[0m \u001b[0;32mfor\u001b[0m \u001b[0mp\u001b[0m \u001b[0;32min\u001b[0m \u001b[0mPrimes\u001b[0m\u001b[0;34m(\u001b[0m\u001b[0;34m)\u001b[0m \u001b[0;32mif\u001b[0m \u001b[0mp\u001b[0m \u001b[0;34m<\u001b[0m \u001b[0;36m100\u001b[0m\u001b[0;34m]\u001b[0m\u001b[0;34m\u001b[0m\u001b[0;34m\u001b[0m\u001b[0m\n\u001b[0m",
      "\u001b[0;32m<ipython-input-82-8b9db5b95a22>\u001b[0m in \u001b[0;36m<listcomp>\u001b[0;34m(.0)\u001b[0m\n\u001b[1;32m      9\u001b[0m             \u001b[0msquare_root\u001b[0m \u001b[0;34m=\u001b[0m \u001b[0mint\u001b[0m\u001b[0;34m(\u001b[0m\u001b[0mcurrent\u001b[0m \u001b[0;34m**\u001b[0m \u001b[0;36m0.5\u001b[0m\u001b[0;34m)\u001b[0m\u001b[0;34m\u001b[0m\u001b[0;34m\u001b[0m\u001b[0m\n\u001b[1;32m     10\u001b[0m             \u001b[0mis_prime\u001b[0m \u001b[0;34m=\u001b[0m \u001b[0;32mTrue\u001b[0m\u001b[0;34m\u001b[0m\u001b[0;34m\u001b[0m\u001b[0m\n\u001b[0;32m---> 11\u001b[0;31m \u001b[0;34m[\u001b[0m\u001b[0mp\u001b[0m \u001b[0;32mfor\u001b[0m \u001b[0mp\u001b[0m \u001b[0;32min\u001b[0m \u001b[0mPrimes\u001b[0m\u001b[0;34m(\u001b[0m\u001b[0;34m)\u001b[0m \u001b[0;32mif\u001b[0m \u001b[0mp\u001b[0m \u001b[0;34m<\u001b[0m \u001b[0;36m100\u001b[0m\u001b[0;34m]\u001b[0m\u001b[0;34m\u001b[0m\u001b[0;34m\u001b[0m\u001b[0m\n\u001b[0m",
      "\u001b[0;32m<ipython-input-82-8b9db5b95a22>\u001b[0m in \u001b[0;36m__next__\u001b[0;34m(self)\u001b[0m\n\u001b[1;32m      7\u001b[0m         \u001b[0;32mwhile\u001b[0m \u001b[0;32mTrue\u001b[0m\u001b[0;34m:\u001b[0m\u001b[0;34m\u001b[0m\u001b[0;34m\u001b[0m\u001b[0m\n\u001b[1;32m      8\u001b[0m             \u001b[0mcurrent\u001b[0m \u001b[0;34m=\u001b[0m \u001b[0mself\u001b[0m\u001b[0;34m.\u001b[0m\u001b[0mcurrent\u001b[0m\u001b[0;34m\u001b[0m\u001b[0;34m\u001b[0m\u001b[0m\n\u001b[0;32m----> 9\u001b[0;31m             \u001b[0msquare_root\u001b[0m \u001b[0;34m=\u001b[0m \u001b[0mint\u001b[0m\u001b[0;34m(\u001b[0m\u001b[0mcurrent\u001b[0m \u001b[0;34m**\u001b[0m \u001b[0;36m0.5\u001b[0m\u001b[0;34m)\u001b[0m\u001b[0;34m\u001b[0m\u001b[0;34m\u001b[0m\u001b[0m\n\u001b[0m\u001b[1;32m     10\u001b[0m             \u001b[0mis_prime\u001b[0m \u001b[0;34m=\u001b[0m \u001b[0;32mTrue\u001b[0m\u001b[0;34m\u001b[0m\u001b[0;34m\u001b[0m\u001b[0m\n\u001b[1;32m     11\u001b[0m \u001b[0;34m[\u001b[0m\u001b[0mp\u001b[0m \u001b[0;32mfor\u001b[0m \u001b[0mp\u001b[0m \u001b[0;32min\u001b[0m \u001b[0mPrimes\u001b[0m\u001b[0;34m(\u001b[0m\u001b[0;34m)\u001b[0m \u001b[0;32mif\u001b[0m \u001b[0mp\u001b[0m \u001b[0;34m<\u001b[0m \u001b[0;36m100\u001b[0m\u001b[0;34m]\u001b[0m\u001b[0;34m\u001b[0m\u001b[0;34m\u001b[0m\u001b[0m\n",
      "\u001b[0;31mKeyboardInterrupt\u001b[0m: "
     ]
    }
   ],
   "source": [
    "# class Primes:\n",
    "#     def __init__(self):\n",
    "#         self.current = 2\n",
    "#     def __iter__(self):\n",
    "#         return self\n",
    "#     def __next__(self):\n",
    "#         while True:\n",
    "#             current = self.current\n",
    "#             square_root = int(current ** 0.5)\n",
    "#             is_prime = True\n",
    "# [p for p in Primes() if p < 100]"
   ]
  },
  {
   "cell_type": "markdown",
   "metadata": {},
   "source": [
    "Exercise 108: Turning a Finite Sequence into an Infinite One, and Back Again\n",
    "\n",
    "In this exercise, consider a turn-based game, such as chess. The person playing white makes the first move. Then, the person playing black takes their turn. Then white. Then black. Then white, black, white, and so on until the game ends. If you had an infinite list\n",
    "of white, black, white, black, white, and so on, then you could always look at the next element to decide whose turn it is."
   ]
  },
  {
   "cell_type": "code",
   "execution_count": null,
   "metadata": {},
   "outputs": [],
   "source": [
    "import itertools\n",
    "players = ['White', 'Black']\n",
    "# Use the itertools function cycle to generate an infinite sequence of turns\n",
    "turns = itertools.cycle(players)\n",
    "countdown = itertools.count(10, -1)\n",
    "print(countdown)\n",
    "print([turn for turn in itertools.takewhile(lambda x:next(countdown)>0, turns)])"
   ]
  },
  {
   "cell_type": "markdown",
   "metadata": {},
   "source": [
    "This is the \"round-robin\" algorithm for allocating actions (in this case, making a chess move) to resources (in this case, the players), and has many more applications than\n",
    "board games. A simple way to do load balancing between multiple servers in a web service or database application is to build an infinite sequence of the available servers\n",
    "and choose one in turn for each incoming request."
   ]
  },
  {
   "cell_type": "markdown",
   "metadata": {},
   "source": [
    "## Generators\n",
    "A function that returns a value does all of its computation and five up control to its caller. which supplies that value. \n",
    "It can instead yield a value, which passes control (and the value) back to the caller but leaves the function's state intact. Later, it can yield another value, or finally return to indicate that it is done. A function that yields is called a generator.\n",
    "\n",
    "A real-world example of a situation where generators can help is when dealing with I/O. A stream of data coming from a network service can be represented by a generator\n",
    "that yields the available data until the stream is closed when it returns the remaining data. Using a generator allows the program to pass control back and forth between the I/O stream when data is available, and the caller where the data can be processed.\n",
    "\n",
    "Python internally turns generator functions into objects that use the iterator protocol (such as __iter__, __next__, and the StopIteration error), so the work you put into understanding iterations in the previous section means you already know what generators are doing. There is nothing you can write for a generator that could not be\n",
    "replaced with an equivalent iterator object. However, sometimes, a generator is easier to write or understand. Writing code that is easier to understand is the definition of Pythonicity."
   ]
  },
  {
   "cell_type": "code",
   "execution_count": 91,
   "metadata": {},
   "outputs": [
    {
     "name": "stdout",
     "output_type": "stream",
     "text": [
      "[2, 3, 5, 7, 11, 13, 17, 19, 23, 29, 31, 37, 41, 43, 47, 53, 59, 61, 67, 71, 73, 79, 83, 89, 97]\n"
     ]
    }
   ],
   "source": [
    "def primes_below(bound):\n",
    "    candidates = list(range(2, bound))\n",
    "    while (len(candidates) > 0):\n",
    "        yield candidates[0]\n",
    "        candidates = [c for c in candidates if c % candidates[0]]\n",
    "print([prime for prime in primes_below(100)])"
   ]
  },
  {
   "cell_type": "code",
   "execution_count": 123,
   "metadata": {},
   "outputs": [
    {
     "name": "stdout",
     "output_type": "stream",
     "text": [
      "[3.148, 3.128, 3.1346666666666665, 3.147, 3.148, 3.134, 3.129142857142857, 3.13, 3.1306666666666665]\n",
      "[0.0064073464102070155, -0.013592653589793002, -0.006925986923126626, 0.0054073464102066815, 0.0064073464102070155, -0.007592653589793219, -0.012449796446936112, -0.011592653589793223, -0.01092598692312663]\n"
     ]
    }
   ],
   "source": [
    "import random\n",
    "import math\n",
    "def approximate_pi():\n",
    "    total_no_of_points = 0\n",
    "    no_within_circle = 0\n",
    "    substeps = (range(10000))\n",
    "    \n",
    "    for m in range(10000+1):\n",
    "        num_1 = random.random()\n",
    "        num_2 = random.random()\n",
    "        total_no_of_points += 1\n",
    "        distance = math.sqrt(num_1 ** 2 + num_2**2)\n",
    "        \n",
    "        if distance < 1 :\n",
    "            no_within_circle += 1\n",
    "        \n",
    "        if total_no_of_points % 1000 == 0:\n",
    "            pi_estimate = 4 * (no_within_circle) / total_no_of_points\n",
    "\n",
    "            if total_no_of_points == 10000:\n",
    "                return pi_estimate\n",
    "            else:\n",
    "                yield pi_estimate\n",
    "        \n",
    "        \n",
    "estimates = [estimate for estimate in approximate_pi()]\n",
    "errors = [estimate - math.pi for estimate in estimates]      \n",
    "print(estimates)\n",
    "print(errors)"
   ]
  },
  {
   "cell_type": "code",
   "execution_count": 99,
   "metadata": {},
   "outputs": [
    {
     "name": "stdout",
     "output_type": "stream",
     "text": [
      "0.18603611005767529\n",
      "0.6790779167928764\n",
      "0.3639537584569694\n",
      "0.42400007489310576\n",
      "0.8289514666910427\n",
      "0.5357241930437389\n",
      "0.3663812631374256\n",
      "0.43147453216678144\n",
      "0.9769231267161658\n",
      "0.20527137581748778\n",
      "0.7693250883417135\n",
      "0.2115270227831496\n",
      "0.5560939052629336\n",
      "0.04952224157404472\n",
      "0.19172399442033228\n",
      "0.4015659133289592\n",
      "0.7766834561485279\n",
      "0.3417917979367827\n",
      "0.5955675447472232\n",
      "0.49366025341235165\n"
     ]
    }
   ],
   "source": [
    "import random\n",
    "for m in (range(20)):\n",
    "    print()"
   ]
  }
 ],
 "metadata": {
  "kernelspec": {
   "display_name": "Python 3",
   "language": "python",
   "name": "python3"
  },
  "language_info": {
   "codemirror_mode": {
    "name": "ipython",
    "version": 3
   },
   "file_extension": ".py",
   "mimetype": "text/x-python",
   "name": "python",
   "nbconvert_exporter": "python",
   "pygments_lexer": "ipython3",
   "version": "3.6.9"
  }
 },
 "nbformat": 4,
 "nbformat_minor": 4
}
