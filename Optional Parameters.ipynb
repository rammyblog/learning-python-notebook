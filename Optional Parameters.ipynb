{
 "cells": [
  {
   "cell_type": "markdown",
   "metadata": {},
   "source": [
    "It is simply givng the paramters a default value, so when I do not specify the value, it will default back to the value I specified."
   ]
  },
  {
   "cell_type": "code",
   "execution_count": 3,
   "metadata": {},
   "outputs": [
    {
     "name": "stdout",
     "output_type": "stream",
     "text": [
      "25\n"
     ]
    }
   ],
   "source": [
    "def func(x=1):\n",
    "    return x**2\n",
    "call = func(5)\n",
    "print(call)"
   ]
  },
  {
   "cell_type": "code",
   "execution_count": 8,
   "metadata": {
    "scrolled": true
   },
   "outputs": [
    {
     "name": "stdout",
     "output_type": "stream",
     "text": [
      "400\n"
     ]
    }
   ],
   "source": [
    "def func(word, freq=10):\n",
    "    print(word*freq)\n",
    "call = func(40)\n"
   ]
  },
  {
   "cell_type": "markdown",
   "metadata": {},
   "source": [
    "Multiple optional param\n"
   ]
  },
  {
   "cell_type": "code",
   "execution_count": 9,
   "metadata": {},
   "outputs": [
    {
     "name": "stdout",
     "output_type": "stream",
     "text": [
      "hellohellohellohellohellohello\n"
     ]
    }
   ],
   "source": [
    "def func(word, add=5,freq=1):\n",
    "    print(word*(freq+add))\n",
    "call = func('hello')\n"
   ]
  },
  {
   "cell_type": "code",
   "execution_count": 13,
   "metadata": {},
   "outputs": [
    {
     "name": "stdout",
     "output_type": "stream",
     "text": [
      "This car is a Ford Fusion from 2002, it is New and has 0 kms.\n"
     ]
    }
   ],
   "source": [
    "class Car(object):\n",
    "    def __init__(self, make, model,year, condition=\"New\", kms=0):\n",
    "        self.make=make\n",
    "        self.model=model\n",
    "        self.year=year\n",
    "        self.condition=condition\n",
    "        self.kms=kms\n",
    "    def display(self, showAll=True):\n",
    "        if showAll:\n",
    "            print(\"This car is a %s %s from %s, it is %s and has %s kms.\" %(self.make, self.model, self.year, self.condition, self.kms))\n",
    "        else:\n",
    "            print(\"THis car is a %s %s from %s.\" %(self.make, self.model, self.year))\n",
    "        \n",
    "whip = Car('Ford', 'Fusion', 2002)\n",
    "whip.display()"
   ]
  }
 ],
 "metadata": {
  "kernelspec": {
   "display_name": "Python 3",
   "language": "python",
   "name": "python3"
  },
  "language_info": {
   "codemirror_mode": {
    "name": "ipython",
    "version": 3
   },
   "file_extension": ".py",
   "mimetype": "text/x-python",
   "name": "python",
   "nbconvert_exporter": "python",
   "pygments_lexer": "ipython3",
   "version": "3.6.9"
  }
 },
 "nbformat": 4,
 "nbformat_minor": 4
}
