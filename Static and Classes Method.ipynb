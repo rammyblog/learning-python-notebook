{
 "cells": [
  {
   "cell_type": "markdown",
   "metadata": {},
   "source": [
    "Class method means you can call it on any instance of the class\n",
    "You do not need to create an object of the class to use the class method\n",
    "\n",
    "\n",
    "Static methods are regular methods in a class. i.e the self is not required.\n",
    "\n"
   ]
  },
  {
   "cell_type": "code",
   "execution_count": 2,
   "metadata": {},
   "outputs": [],
   "source": [
    "class Person(object):\n",
    "    population = 50\n",
    "    def __init__(self,name,age):\n",
    "        self.name=name\n",
    "        self.age=age\n",
    "    \n",
    "    @classmethod\n",
    "    def getPopulation(cls):\n",
    "        return cls.population\n",
    "    \n",
    "    @staticmethod\n",
    "    def isAdult(age):\n",
    "        return age >= 10\n",
    "    \n",
    "    def display(self):\n",
    "        print(self.name, 'is', self.age, 'years old')\n",
    "\n",
    "newPerson = Person('Tunde', 22)\n"
   ]
  }
 ],
 "metadata": {
  "kernelspec": {
   "display_name": "Python 3",
   "language": "python",
   "name": "python3"
  },
  "language_info": {
   "codemirror_mode": {
    "name": "ipython",
    "version": 3
   },
   "file_extension": ".py",
   "mimetype": "text/x-python",
   "name": "python",
   "nbconvert_exporter": "python",
   "pygments_lexer": "ipython3",
   "version": "3.6.9"
  }
 },
 "nbformat": 4,
 "nbformat_minor": 4
}
