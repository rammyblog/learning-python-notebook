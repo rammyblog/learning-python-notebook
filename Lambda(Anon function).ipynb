{
 "cells": [
  {
   "cell_type": "markdown",
   "metadata": {},
   "source": [
    "Used only if the expression is a single expression"
   ]
  },
  {
   "cell_type": "code",
   "execution_count": 2,
   "metadata": {},
   "outputs": [
    {
     "name": "stdout",
     "output_type": "stream",
     "text": [
      "55\n"
     ]
    }
   ],
   "source": [
    "def func(x):\n",
    "    return x+5\n",
    "\n",
    "func2 = lambda x: x+5\n",
    "print(func2(50))"
   ]
  },
  {
   "cell_type": "code",
   "execution_count": 4,
   "metadata": {},
   "outputs": [
    {
     "name": "stdout",
     "output_type": "stream",
     "text": [
      "10\n",
      "60\n"
     ]
    }
   ],
   "source": [
    "def func(x):\n",
    "    func2 = lambda x: x+5\n",
    "    return func2(x)+5\n",
    "\n",
    "func3 = lambda x,y:x+y\n",
    "print(func3(5,5))\n",
    "print(func(50))"
   ]
  },
  {
   "cell_type": "code",
   "execution_count": 9,
   "metadata": {},
   "outputs": [
    {
     "name": "stdout",
     "output_type": "stream",
     "text": [
      "[6, 7, 9, 10, 11, 12]\n",
      "[6, 7, 9, 10, 11, 12]\n"
     ]
    }
   ],
   "source": [
    "a = [1,2,4,5,6,7,]\n",
    "newList = list(map(lambda x:x+5, a))\n",
    "print(newList)\n",
    "# Using list comprehension\n",
    "test = print([x+5 for x in a])"
   ]
  }
 ],
 "metadata": {
  "kernelspec": {
   "display_name": "Python 3",
   "language": "python",
   "name": "python3"
  },
  "language_info": {
   "codemirror_mode": {
    "name": "ipython",
    "version": 3
   },
   "file_extension": ".py",
   "mimetype": "text/x-python",
   "name": "python",
   "nbconvert_exporter": "python",
   "pygments_lexer": "ipython3",
   "version": "3.6.9"
  }
 },
 "nbformat": 4,
 "nbformat_minor": 4
}
